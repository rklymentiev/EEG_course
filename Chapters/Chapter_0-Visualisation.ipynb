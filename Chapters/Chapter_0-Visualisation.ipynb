{
 "cells": [
  {
   "cell_type": "markdown",
   "source": [
    "# Chapter 0. Visualization"
   ],
   "metadata": {
    "collapsed": false
   }
  },
  {
   "cell_type": "markdown",
   "metadata": {
    "id": "iR37Se18hjQL"
   },
   "source": [
    "Ildar Rakhmatulin ildarr2016@gmail.com"
   ]
  },
  {
   "cell_type": "markdown",
   "metadata": {
    "id": "nUA7vilcfsWz"
   },
   "source": [
    "## Import libraries\n",
    "To install libraries in Python, you can use a package manager like pip, which comes pre-installed with most Python distributions.\n",
    "\n"
   ]
  },
  {
   "cell_type": "code",
   "metadata": {
    "id": "dIAU4hJO8OOr",
    "ExecuteTime": {
     "end_time": "2024-05-23T06:54:34.881963Z",
     "start_time": "2024-05-23T06:54:31.206450Z"
    }
   },
   "source": [
    "from matplotlib import pyplot as plt\n",
    "import pandas as pd\n",
    "import numpy as np\n",
    "from scipy import signal\n",
    "import mne"
   ],
   "execution_count": 1,
   "outputs": []
  },
  {
   "cell_type": "markdown",
   "metadata": {
    "id": "iukTtdQJhLjw"
   },
   "source": [
    "## Import Dataset"
   ]
  },
  {
   "cell_type": "markdown",
   "source": [
    "Load dataset https://github.com/Ildaron/ironbci   \n",
    "\n",
    "Channel labels according to the international 10-20 system EEG Placement:\n",
    "\n",
    "* Ch1 - Fz  \n",
    "* Ch2 - Cz  \n",
    "* Ch3 - Pz  \n",
    "* Ch4 - T3  \n",
    "* Ch5 - C3  \n",
    "* Ch6 - Fp1     \n",
    "* Ch7 - C4  \n",
    "* Ch8 - T4  "
   ],
   "metadata": {
    "id": "jG8Wq3YUcuxL"
   }
  },
  {
   "cell_type": "code",
   "metadata": {
    "colab": {
     "base_uri": "https://localhost:8080/",
     "height": 730
    },
    "executionInfo": {
     "elapsed": 4064,
     "status": "ok",
     "timestamp": 1694615584628,
     "user": {
      "displayName": "Ildar Rakhmatulin",
      "userId": "09371392057337160838"
     },
     "user_tz": -60
    },
    "id": "Zw2BPfLt_Is-",
    "outputId": "90d8bf80-02e0-4ca7-f37e-b6381870c5f0",
    "ExecuteTime": {
     "end_time": "2024-05-23T06:54:36.018049Z",
     "start_time": "2024-05-23T06:54:34.883965Z"
    }
   },
   "source": [
    "# load the Excel file as a DataFrame\n",
    "eeg_data = pd.read_excel(\"../dataset/dataset.xlsx\")\n",
    "# convert from Digital Value of Analog Digital converter (ADC) ADS1299 to microvolts\n",
    "eeg_data = round(1000000*4.5*(eeg_data/16777215),2)  \n",
    "display(eeg_data.head())"
   ],
   "execution_count": 2,
   "outputs": []
  },
  {
   "cell_type": "code",
   "source": [
    "# select the data from the first channel\n",
    "channel = 0\n",
    "channel_data = eeg_data.iloc[:, channel]\n",
    "\n",
    "# plot the EEG data\n",
    "plt.plot(channel_data)\n",
    "plt.title(\"Signal data from Channel 1\")\n",
    "plt.ylabel('ADC data')  # Data from ADS1299\n",
    "plt.xlabel('Sample')\n",
    "plt.show()"
   ],
   "metadata": {
    "collapsed": false,
    "ExecuteTime": {
     "end_time": "2024-05-23T06:54:36.236764Z",
     "start_time": "2024-05-23T06:54:36.020049Z"
    }
   },
   "execution_count": 3,
   "outputs": []
  },
  {
   "cell_type": "markdown",
   "metadata": {
    "id": "UaRCjbE1qNsH"
   },
   "source": [
    "## Band Pass Filter\n",
    "\n",
    "Band-pass filtering is a common signal processing technique used in EEG (Electroencephalography) data analysis to isolate specific frequency bands of interest while removing unwanted frequencies. Band-pass filtering allows researchers to focus on particular brainwave rhythms that are relevant to their study. For example, you might want to extract the alpha, beta, or gamma waves from the EEG data.  \n",
    "\n",
    "You can read more about band-pass filter in [Chapter 1](https://graceful-kelpie-579688.netlify.app/chapters/chapter_1-band_pass_filter).\n"
   ]
  },
  {
   "cell_type": "code",
   "metadata": {
    "id": "ep53vfz0_NWx",
    "colab": {
     "base_uri": "https://localhost:8080/",
     "height": 472
    },
    "executionInfo": {
     "status": "ok",
     "timestamp": 1694615587073,
     "user_tz": -60,
     "elapsed": 1015,
     "user": {
      "displayName": "Ildar Rakhmatulin",
      "userId": "09371392057337160838"
     }
    },
    "outputId": "e3f4e895-a2af-4415-d224-1ef251959cb3",
    "ExecuteTime": {
     "end_time": "2024-05-23T06:54:36.422760Z",
     "start_time": "2024-05-23T06:54:36.238758Z"
    }
   },
   "source": [
    "def butter_highpass_filter(data, cutoff, nyq, order=5):\n",
    "    \"\"\"Butterworth high-pass filter.\n",
    "    Args:\n",
    "        data (array_like): data to be filtered.\n",
    "        cutoff (float): cutoff frequency.\n",
    "        order (int): order of the filter.\n",
    "    Returns:\n",
    "        array: filtered data.\"\"\"\n",
    "    normal_cutoff = cutoff / nyq  # normalized cutoff frequency\n",
    "    b, a = signal.butter(order, normal_cutoff, btype='high', analog=False)\n",
    "    filtered_data = signal.filtfilt(b, a, data)\n",
    "    return filtered_data\n",
    "\n",
    "def butter_lowpass_filter(data, cutoff, nyq, order=5):\n",
    "    \"\"\"Butterworth low-pass filter.\n",
    "    Args:\n",
    "        data (array_like): data to be filtered.\n",
    "        cutoff (float): cutoff frequency.\n",
    "        order (int): order of the filter.\n",
    "    Returns:\n",
    "        array: filtered data.\"\"\"\n",
    "    normal_cutoff = cutoff / nyq  # normalized cutoff frequency\n",
    "    b, a = signal.butter(order, normal_cutoff, btype='low', analog=False)\n",
    "    filtered_data = signal.lfilter(b, a, data)\n",
    "    return filtered_data\n",
    "\n",
    "channel_data_bp_filtered = channel_data.copy()  # copy the data\n",
    "fps = 250  # sampling frequency \n",
    "cutoff_high = 1  # cutoff frequency of the high-pass filter\n",
    "cutoff_low = 5  # cutoff frequency of the low-pass filter\n",
    "nyq = 0.5 * fps  # Nyquist frequency (half of the sampling frequency)\n",
    "\n",
    "# apply the band-pass filter\n",
    "channel_data_bp_filtered = butter_highpass_filter(\n",
    "    data=channel_data_bp_filtered, \n",
    "    cutoff=cutoff_high, \n",
    "    nyq=nyq,\n",
    "    order=5)\n",
    "channel_data_bp_filtered = butter_lowpass_filter(\n",
    "    data=channel_data_bp_filtered, \n",
    "    cutoff=cutoff_low, \n",
    "    nyq=nyq,\n",
    "    order=4)\n",
    "\n",
    "plt.plot(channel_data_bp_filtered)\n",
    "plt.title(\"Channel Data after Band-pass Filter (1-5 Hz)\")\n",
    "plt.ylabel('ADC data')\n",
    "plt.xlabel('Sample')\n",
    "plt.show()"
   ],
   "execution_count": 4,
   "outputs": []
  },
  {
   "cell_type": "code",
   "source": [
    "# filter the whole dataset\n",
    "eeg_data_filtered = eeg_data.copy()\n",
    "for channel in range(eeg_data.shape[1]):\n",
    "    eeg_data_filtered.iloc[:, channel] = butter_highpass_filter(\n",
    "        data=eeg_data.iloc[:, channel], \n",
    "        cutoff=cutoff_high, \n",
    "        nyq=nyq,\n",
    "        order=5)\n",
    "    eeg_data_filtered.iloc[:, channel] = butter_lowpass_filter(\n",
    "        data=eeg_data_filtered.iloc[:, channel], \n",
    "        cutoff=cutoff_low, \n",
    "        nyq=nyq,\n",
    "        order=4)\n",
    "display(eeg_data_filtered.head())"
   ],
   "metadata": {
    "collapsed": false,
    "ExecuteTime": {
     "end_time": "2024-05-23T06:54:36.468717Z",
     "start_time": "2024-05-23T06:54:36.426954Z"
    }
   },
   "execution_count": 5,
   "outputs": []
  },
  {
   "cell_type": "markdown",
   "source": [
    "## Visualisation"
   ],
   "metadata": {
    "id": "ErUtxKLawdlV"
   }
  },
  {
   "cell_type": "code",
   "source": [
    "# create the heatmap\n",
    "plt.figure(figsize=(10, 6))\n",
    "heatmap = plt.imshow(eeg_data_filtered.T, cmap='viridis', aspect='auto')\n",
    "plt.colorbar(heatmap, label='EEG Amplitude')\n",
    "plt.xlabel('Time')\n",
    "plt.ylabel('Channel')\n",
    "plt.title('EEG Heatmap')\n",
    "plt.show()"
   ],
   "metadata": {
    "colab": {
     "base_uri": "https://localhost:8080/",
     "height": 564
    },
    "id": "OWVsdaMRwdc8",
    "executionInfo": {
     "status": "ok",
     "timestamp": 1694615588888,
     "user_tz": -60,
     "elapsed": 1817,
     "user": {
      "displayName": "Ildar Rakhmatulin",
      "userId": "09371392057337160838"
     }
    },
    "outputId": "12d2d75b-d8be-4953-c76f-6bded5575467",
    "ExecuteTime": {
     "end_time": "2024-05-23T06:54:37.077091Z",
     "start_time": "2024-05-23T06:54:36.471716Z"
    }
   },
   "execution_count": 6,
   "outputs": []
  },
  {
   "cell_type": "markdown",
   "source": [
    "## 3D graph"
   ],
   "metadata": {
    "id": "XgmQMDQH8yrL"
   }
  },
  {
   "cell_type": "code",
   "source": [
    "channel_names = [\"ch1\", \"ch2\", \"ch3\", \"ch4\", \"ch5\", \"ch6\", \"ch7\", \"ch8\"]\n",
    "\n",
    "fig = plt.figure()\n",
    "ax = fig.add_subplot(111, projection='3d')\n",
    "\n",
    "x, y = np.meshgrid(np.arange(eeg_data_filtered.shape[0]), np.arange(len(channel_names)))\n",
    "\n",
    "z = eeg_data_filtered.values.flatten()\n",
    "ax.scatter(x, y, z, c=z, cmap='viridis', marker='o')\n",
    "\n",
    "ax.set_xlabel('Data Point Index')\n",
    "ax.set_ylabel('Channels')\n",
    "ax.set_zlabel('Value')\n",
    "\n",
    "ax.set_yticks(np.arange(len(channel_names)))\n",
    "ax.set_yticklabels(channel_names)\n",
    "\n",
    "plt.show()"
   ],
   "metadata": {
    "colab": {
     "base_uri": "https://localhost:8080/",
     "height": 414
    },
    "id": "hkP8tf1D7mpY",
    "executionInfo": {
     "status": "ok",
     "timestamp": 1694615594932,
     "user_tz": -60,
     "elapsed": 6046,
     "user": {
      "displayName": "Ildar Rakhmatulin",
      "userId": "09371392057337160838"
     }
    },
    "outputId": "467241bd-f5e6-427f-a20f-92c10d2c359f",
    "ExecuteTime": {
     "end_time": "2024-05-23T06:54:38.949397Z",
     "start_time": "2024-05-23T06:54:37.079655Z"
    }
   },
   "execution_count": 7,
   "outputs": []
  },
  {
   "cell_type": "markdown",
   "source": [
    "## Heat map"
   ],
   "metadata": {
    "id": "k7En600u9X4_"
   }
  },
  {
   "cell_type": "code",
   "source": [
    "plt.matshow(eeg_data_filtered.corr())\n",
    "plt.colorbar()\n",
    "plt.show()"
   ],
   "metadata": {
    "colab": {
     "base_uri": "https://localhost:8080/",
     "height": 451
    },
    "id": "0KPvd6749YKz",
    "executionInfo": {
     "status": "ok",
     "timestamp": 1694615596370,
     "user_tz": -60,
     "elapsed": 1460,
     "user": {
      "displayName": "Ildar Rakhmatulin",
      "userId": "09371392057337160838"
     }
    },
    "outputId": "e07f0cca-1c6c-4117-83f1-56df70651053",
    "ExecuteTime": {
     "end_time": "2024-05-23T06:54:39.200515Z",
     "start_time": "2024-05-23T06:54:38.967990Z"
    }
   },
   "execution_count": 9,
   "outputs": []
  },
  {
   "cell_type": "markdown",
   "source": [
    "https://mne.tools/stable/auto_examples/io/read_noise_covariance_matrix.html#sphx-glr-auto-examples-io-read-noise-covariance-matrix-py"
   ],
   "metadata": {
    "id": "2EgoGnhQ00Pi"
   }
  },
  {
   "cell_type": "markdown",
   "source": [
    "## MNE Topomap"
   ],
   "metadata": {
    "id": "GCh0j8Hv8Pa4"
   }
  },
  {
   "cell_type": "code",
   "source": [
    "data_after_band_pass_filter = np.array(eeg_data_filtered)\n",
    "data_after_band_pass_filter = data_after_band_pass_filter.reshape((8, 7120))\n",
    "data_after_band_pass_filter = pd.DataFrame(data_after_band_pass_filter)\n",
    "\n",
    "standard_montage = mne.channels.make_standard_montage('standard_alphabetic')\n",
    "n_channels = 8\n",
    "fake_info = mne.create_info(\n",
    "    ch_names=[\"Fp1\", \"Fz\", \"Cz\", \"Pz\", \"T3\", \"C3\", \"C4\", \"T4\"],\n",
    "    sfreq=250.,\n",
    "    ch_types='eeg')\n",
    "print (fake_info)\n",
    "\n",
    "fake_evoked = mne.EvokedArray(data_after_band_pass_filter, fake_info)\n",
    "fake_evoked.set_montage(standard_montage, on_missing='ignore')"
   ],
   "metadata": {
    "colab": {
     "base_uri": "https://localhost:8080/",
     "height": 383
    },
    "id": "bwoCKo9F3N4v",
    "executionInfo": {
     "status": "ok",
     "timestamp": 1694615596374,
     "user_tz": -60,
     "elapsed": 102,
     "user": {
      "displayName": "Ildar Rakhmatulin",
      "userId": "09371392057337160838"
     }
    },
    "outputId": "9ba988d2-f458-4cf6-f1df-517f9454e83e",
    "ExecuteTime": {
     "end_time": "2024-05-23T06:54:39.284560Z",
     "start_time": "2024-05-23T06:54:39.202513Z"
    }
   },
   "execution_count": 10,
   "outputs": []
  },
  {
   "cell_type": "code",
   "source": [
    "times_to_plot = np.arange(0, 28., 7)\n",
    "fake_evoked.plot_topomap(times_to_plot, ch_type=\"eeg\", ncols=len(times_to_plot), nrows=\"auto\");"
   ],
   "metadata": {
    "colab": {
     "base_uri": "https://localhost:8080/",
     "height": 210
    },
    "id": "adjTc-243Zmd",
    "executionInfo": {
     "status": "ok",
     "timestamp": 1694615598212,
     "user_tz": -60,
     "elapsed": 1904,
     "user": {
      "displayName": "Ildar Rakhmatulin",
      "userId": "09371392057337160838"
     }
    },
    "outputId": "99678880-810d-40f6-87c6-1db451fa8f02",
    "ExecuteTime": {
     "end_time": "2024-05-23T06:54:40.413928Z",
     "start_time": "2024-05-23T06:54:39.286475Z"
    }
   },
   "execution_count": 11,
   "outputs": []
  }
 ],
 "metadata": {
  "accelerator": "GPU",
  "colab": {
   "provenance": []
  },
  "gpuClass": "standard",
  "kernelspec": {
   "name": "python3",
   "language": "python",
   "display_name": "Python 3 (ipykernel)"
  },
  "language_info": {
   "name": "python"
  }
 },
 "nbformat": 4,
 "nbformat_minor": 0
}
