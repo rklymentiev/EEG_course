{
 "cells": [
  {
   "cell_type": "markdown",
   "source": [
    "# Chapter 5. Real time"
   ],
   "metadata": {
    "collapsed": false
   }
  },
  {
   "cell_type": "markdown",
   "metadata": {
    "id": "iR37Se18hjQL"
   },
   "source": [
    "Ildar Rakhmatulin ildarr2016@gmail.com"
   ]
  },
  {
   "cell_type": "markdown",
   "metadata": {
    "id": "nUA7vilcfsWz"
   },
   "source": [
    "## Import libraries\n",
    "To install libraries in Python, you can use a package manager like pip, which comes pre-installed with most Python distributions.\n",
    "\n"
   ]
  },
  {
   "cell_type": "code",
   "execution_count": 1,
   "metadata": {
    "executionInfo": {
     "elapsed": 790,
     "status": "ok",
     "timestamp": 1693437572797,
     "user": {
      "displayName": "Ildar Rakhmatulin",
      "userId": "09371392057337160838"
     },
     "user_tz": -60
    },
    "id": "dIAU4hJO8OOr",
    "ExecuteTime": {
     "end_time": "2023-09-24T06:47:39.702084700Z",
     "start_time": "2023-09-24T06:47:37.769832900Z"
    }
   },
   "outputs": [],
   "source": [
    "from matplotlib import pyplot as plt\n",
    "from scipy import signal\n",
    "import pandas as pd\n",
    "from scipy import signal\n",
    "from scipy.fft import fftshift\n",
    "import matplotlib.pyplot as plt\n",
    "import numpy as np\n",
    "from scipy.signal import butter, filtfilt, hilbert"
   ]
  },
  {
   "cell_type": "code",
   "execution_count": 2,
   "metadata": {
    "colab": {
     "base_uri": "https://localhost:8080/",
     "height": 406
    },
    "id": "qYcj67hA-TPq",
    "outputId": "cfe55867-c839-453c-8f95-14f9cc2b364b",
    "executionInfo": {
     "status": "error",
     "timestamp": 1693437573453,
     "user_tz": -60,
     "elapsed": 664,
     "user": {
      "displayName": "Ildar Rakhmatulin",
      "userId": "09371392057337160838"
     }
    },
    "ExecuteTime": {
     "end_time": "2023-09-24T06:47:41.922803400Z",
     "start_time": "2023-09-24T06:47:39.707093400Z"
    }
   },
   "outputs": [
    {
     "ename": "NameError",
     "evalue": "name 'data_after_band_pass_filter' is not defined",
     "output_type": "error",
     "traceback": [
      "\u001B[1;31m---------------------------------------------------------------------------\u001B[0m",
      "\u001B[1;31mNameError\u001B[0m                                 Traceback (most recent call last)",
      "\u001B[1;32m~\\AppData\\Local\\Temp\\ipykernel_1320\\1993393581.py\u001B[0m in \u001B[0;36m<module>\u001B[1;34m\u001B[0m\n\u001B[0;32m     16\u001B[0m \u001B[0mdataset_y\u001B[0m \u001B[1;33m=\u001B[0m \u001B[0mpd\u001B[0m\u001B[1;33m.\u001B[0m\u001B[0mread_excel\u001B[0m\u001B[1;33m(\u001B[0m\u001B[1;34m\"https://github.com/rklymentiev/EEG_course/raw/master/dataset/dataset.xlsx\"\u001B[0m\u001B[1;33m)\u001B[0m\u001B[1;33m\u001B[0m\u001B[1;33m\u001B[0m\u001B[0m\n\u001B[0;32m     17\u001B[0m \u001B[1;33m\u001B[0m\u001B[0m\n\u001B[1;32m---> 18\u001B[1;33m \u001B[0mdataset_y_row\u001B[0m \u001B[1;33m=\u001B[0m \u001B[0mdata_after_band_pass_filter\u001B[0m\u001B[1;33m.\u001B[0m\u001B[0miloc\u001B[0m\u001B[1;33m[\u001B[0m\u001B[1;36m0\u001B[0m\u001B[1;33m]\u001B[0m\u001B[1;33m\u001B[0m\u001B[1;33m\u001B[0m\u001B[0m\n\u001B[0m\u001B[0;32m     19\u001B[0m \u001B[0mprint\u001B[0m \u001B[1;33m(\u001B[0m\u001B[0mdataset_y_row\u001B[0m\u001B[1;33m.\u001B[0m\u001B[0mshape\u001B[0m\u001B[1;33m)\u001B[0m\u001B[1;33m\u001B[0m\u001B[1;33m\u001B[0m\u001B[0m\n\u001B[0;32m     20\u001B[0m \u001B[0mdataset_y\u001B[0m \u001B[1;33m=\u001B[0m \u001B[0mdataset_y\u001B[0m\u001B[1;33m.\u001B[0m\u001B[0mtranspose\u001B[0m\u001B[1;33m(\u001B[0m\u001B[1;33m)\u001B[0m\u001B[1;33m\u001B[0m\u001B[1;33m\u001B[0m\u001B[0m\n",
      "\u001B[1;31mNameError\u001B[0m: name 'data_after_band_pass_filter' is not defined"
     ]
    }
   ],
   "source": [
    "import ctypes\n",
    "from numpy.ctypeslib import ndpointer\n",
    "\n",
    "def butter_bandpass(lowcut, highcut, fs, order=5):\n",
    "    nyq = 0.5 * fs\n",
    "    low = lowcut / nyq\n",
    "    high = highcut / nyq\n",
    "    b, a = signal.butter(order, [low, high], btype='band')\n",
    "    return b, a\n",
    "\n",
    "def butter_bandpass_filter(data, lowcut, highcut, fs, order=5):\n",
    "    b, a = butter_bandpass(lowcut, highcut, fs, order=order)\n",
    "    data = signal.lfilter(b, a, data)\n",
    "    return data\n",
    "\n",
    "dataset_y = pd.read_excel(\"https://github.com/rklymentiev/EEG_course/raw/master/dataset/dataset.xlsx\")\n",
    "\n",
    "dataset_y_row = data_after_band_pass_filter.iloc[0]\n",
    "print (dataset_y_row.shape)\n",
    "dataset_y = dataset_y.transpose()\n",
    "dataset_y = dataset_y.iloc[0]\n",
    "just_one_time = 0\n",
    "data_before = []\n",
    "data_after =  []\n",
    "sample_len = 250\n",
    "sample_len = 250\n",
    "fps = 250\n",
    "cutoff=1\n",
    "cutoffs = 10\n",
    "\n",
    "\n",
    "data_lenght_for_Filter = 4     # how much we read data for filter, all lenght  [_____] + [_____] + [_____]\n",
    "read_data_lenght_one_time = 1   # for one time how much read  [_____]\n",
    "start = 0\n",
    "end = 250\n",
    "while 1:\n",
    "        if just_one_time == 0:\n",
    "            for b in range (0,data_lenght_for_Filter,1):\n",
    "                for a in range (0,read_data_lenght_one_time,1):\n",
    "\n",
    "                    data_read = dataset_y[start:end]\n",
    "                    start = start + 250\n",
    "                    end = end + 250\n",
    "                    data_before.append(data_read)\n",
    "\n",
    "            just_one_time = 1\n",
    "            data_before = data_before[read_data_lenght_one_time:]\n",
    "\n",
    "        for c in range (0,read_data_lenght_one_time,1):\n",
    "            data_read = dataset_y[start:end]\n",
    "            start = start + 250\n",
    "            end = end + 250\n",
    "            data_after.append(data_read)\n",
    "\n",
    "        data_before_for_sum = data_before\n",
    "        data_after_for_sum = data_after\n",
    "\n",
    "        data_before_for_sum = [item for sublist in data_before for item in sublist]\n",
    "        data_after_for_sum = [item for sublist in data_after for item in sublist]\n",
    "        dataset =  data_before_for_sum + data_after_for_sum #+ data_after_flip\n",
    "        dataset = [int(x) for x in dataset]\n",
    "\n",
    "        dataset_before = data_before + data_after\n",
    "        data_before = dataset_before[read_data_lenght_one_time:]\n",
    "        data = butter_bandpass_filter(dataset, cutoff, cutoffs,fps)\n",
    "\n",
    "        data_after = []\n",
    "        dataset = []\n",
    "\n",
    "        import pylab as pl\n",
    "        from IPython import display\n",
    "\n",
    "        pl.clf()\n",
    "        pl.plot(data[750:])\n",
    "        data_for_graph = np.array(data_read)\n",
    "        pl.plot(data_for_graph - 24000)\n",
    "        display.display(pl.gcf())\n",
    "        display.clear_output(wait=True)\n",
    "\n",
    "        import time\n",
    "        time.sleep(1)"
   ]
  },
  {
   "cell_type": "code",
   "source": [],
   "metadata": {
    "id": "EnsfrAMvjRBs",
    "executionInfo": {
     "status": "aborted",
     "timestamp": 1693437573454,
     "user_tz": -60,
     "elapsed": 4,
     "user": {
      "displayName": "Ildar Rakhmatulin",
      "userId": "09371392057337160838"
     }
    }
   },
   "execution_count": null,
   "outputs": []
  },
  {
   "cell_type": "code",
   "source": [],
   "metadata": {
    "id": "9qDUbTAVi_L1",
    "executionInfo": {
     "status": "aborted",
     "timestamp": 1693437573454,
     "user_tz": -60,
     "elapsed": 4,
     "user": {
      "displayName": "Ildar Rakhmatulin",
      "userId": "09371392057337160838"
     }
    }
   },
   "execution_count": null,
   "outputs": []
  }
 ],
 "metadata": {
  "accelerator": "GPU",
  "colab": {
   "provenance": [],
   "toc_visible": true
  },
  "gpuClass": "standard",
  "kernelspec": {
   "name": "python3",
   "language": "python",
   "display_name": "Python 3 (ipykernel)"
  },
  "language_info": {
   "name": "python"
  }
 },
 "nbformat": 4,
 "nbformat_minor": 0
}
