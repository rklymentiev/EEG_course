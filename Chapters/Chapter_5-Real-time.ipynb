{
 "cells": [
  {
   "metadata": {},
   "cell_type": "markdown",
   "source": "# Chapter 5. Real time signal processing in EEG"
  },
  {
   "cell_type": "markdown",
   "metadata": {
    "id": "iR37Se18hjQL"
   },
   "source": [
    "Ildar Rakhmatulin ildarr2016@gmail.com"
   ]
  },
  {
   "cell_type": "markdown",
   "metadata": {
    "id": "nUA7vilcfsWz"
   },
   "source": [
    "## Import libraries\n",
    "To install libraries in Python, you can use a package manager like pip, which comes pre-installed with most Python distributions."
   ]
  },
  {
   "cell_type": "code",
   "metadata": {
    "id": "dIAU4hJO8OOr",
    "ExecuteTime": {
     "end_time": "2024-05-22T20:45:55.663584Z",
     "start_time": "2024-05-22T20:45:53.634779Z"
    }
   },
   "source": [
    "import pandas as pd\n",
    "from scipy import signal\n",
    "import numpy as np\n",
    "import time\n",
    "import pylab as pl\n",
    "from IPython import display"
   ],
   "outputs": [],
   "execution_count": 1
  },
  {
   "cell_type": "markdown",
   "metadata": {
    "id": "IZDMxvamvGKO"
   },
   "source": [
    "## Real time signal processing in EEG\n",
    "\n",
    "Real-time signal processing in EEG (electroencephalography) is critical for several reasons. First, it provides immediate analysis and interpretation of brain activity, which is important for applications such as neurofeedback, brain-computer interfaces (BCI), and real-time monitoring of neurological conditions.\n",
    "\n",
    "In addition, real-time processing facilitates adaptive algorithms that can dynamically adapt to changing brain states, increasing the accuracy and effectiveness of interventions. This immediacy also improves the user experience in BCI by reducing latency, resulting in a smoother, more responsive experience.\n",
    "\n",
    "**Positive**  \n",
    "\n",
    "* Responsiveness: Real-time processing minimizes latency, making BCIs more effective and user-friendly by providing quick responses to user inputs.  \n",
    "* Adaptive Algorithms: Algorithms can dynamically adjust to ongoing changes in brain activity, enhancing the accuracy and functionality of BCIs.\n",
    "\n",
    "**Negative**  \n",
    "\n",
    "* Signal Noise: EEG signals are often contaminated with noise from various sources (e.g., muscle movements, electrical interference), which can complicate real-time processing and reduce accuracy.  \n",
    "* Computational Load: Real-time processing requires significant computational resources to filter, analyze, and interpret EEG data promptly.  \n",
    "* Accuracy: The need for fast processing can sometimes compromise the accuracy of signal interpretation, leading to false positives or negatives.  \n",
    "* Generalization: Real-time algorithms may not generalize well across different subjects or conditions, necessitating extensive customization and tuning.  \n",
    "\n",
    "**How it works**\n",
    "\n",
    "When working in real time, the main difference is the need to create a data buffer. It's crucial to determine the length of data that will be fed into the filter for processing and subsequent visualization. For instance, with a frame rate of 250 FPS (meaning we receive 250 EEG data points from each channel per second), data processing and visualization would occur once per secund. However, for bandpass filters, it is important to supply data with a margin, as the filter needs time for adjusting.\n",
    "\n",
    "In our example, we demonstrate the ability to set the length of one data packet and how many packets will be fed into the filter.\n",
    "\n",
    "**Recommendation**\n",
    "\n",
    "Try adjusting the bandpass filter settings and aim to achieve a faster graph update rate. Currently, the graph updates every sec.\n"
   ]
  },
  {
   "cell_type": "code",
   "metadata": {
    "id": "EnsfrAMvjRBs",
    "colab": {
     "base_uri": "https://localhost:8080/",
     "height": 589
    },
    "outputId": "4a4052b6-6fe9-4f68-9050-ee010bb5ca23"
   },
   "source": [
    "def butter_bandpass(lowcut, highcut, fs, order=5):\n",
    "    nyq = 0.5 * fs\n",
    "    low = lowcut / nyq\n",
    "    high = highcut / nyq\n",
    "    b, a = signal.butter(order, [low, high], btype='band')\n",
    "    return b, a\n",
    "\n",
    "def butter_bandpass_filter(data, lowcut, highcut, fs, order=5):\n",
    "    b, a = butter_bandpass(lowcut, highcut, fs, order=order)\n",
    "    data = signal.lfilter(b, a, data)\n",
    "    return data\n",
    "\n",
    "dataset_y = pd.read_excel(\"https://github.com/rklymentiev/EEG_course/raw/master/dataset/dataset.xlsx\")\n",
    "\n",
    "dataset_y_row = dataset_y.iloc[0]\n",
    "print (dataset_y_row.shape)\n",
    "dataset_y = dataset_y.transpose()\n",
    "dataset_y = dataset_y.iloc[0]\n",
    "just_one_time = 0\n",
    "data_before = []\n",
    "data_after =  []\n",
    "fps = 250\n",
    "cutoff=1\n",
    "cutoffs = 10\n",
    "\n",
    "\n",
    "data_lenght_for_Filter = 4     # how much we read data for filter, all lenght  [_____] + [_____] + [_____]\n",
    "read_data_lenght_one_time = 1   # for one time how much read  [_____]\n",
    "\n",
    "start = 0\n",
    "total_lenght = end = 500\n",
    "\n",
    "\n",
    "while 1:\n",
    "        if just_one_time == 0:\n",
    "            for b in range (0,data_lenght_for_Filter,1):\n",
    "                for a in range (0,read_data_lenght_one_time,1):\n",
    "                    data_read = dataset_y[start:end]\n",
    "                    start = start + 250\n",
    "                    end = end + 250\n",
    "                    data_before.append(data_read)\n",
    "\n",
    "            just_one_time = 1\n",
    "            data_before = data_before[read_data_lenght_one_time:]\n",
    "\n",
    "        for c in range (0,read_data_lenght_one_time,1):\n",
    "            data_read = dataset_y[start:end]\n",
    "            start = start + 250\n",
    "            end = end + 250\n",
    "            data_after.append(data_read)\n",
    "\n",
    "        data_before_for_sum = data_before\n",
    "        data_after_for_sum = data_after\n",
    "\n",
    "        data_before_for_sum = [item for sublist in data_before for item in sublist]\n",
    "        data_after_for_sum = [item for sublist in data_after for item in sublist]\n",
    "        dataset =  data_before_for_sum + data_after_for_sum #+ data_after_flip\n",
    "        dataset = [int(x) for x in dataset]\n",
    "\n",
    "        dataset_before = data_before + data_after\n",
    "        data_before = dataset_before[read_data_lenght_one_time:]\n",
    "        data = butter_bandpass_filter(dataset, cutoff, cutoffs,fps)\n",
    "\n",
    "        data_after = []\n",
    "        dataset = []\n",
    "\n",
    "\n",
    "        pl.clf()\n",
    "        pl.plot(data[-total_lenght:])\n",
    "        data_for_graph = np.array(data_read)\n",
    "        pl.plot(data_for_graph - np.average(data_for_graph))\n",
    "        display.display(pl.gcf())\n",
    "        display.clear_output(wait=True)\n",
    "\n",
    "\n",
    "        time.sleep(1)"
   ],
   "execution_count": 2,
   "outputs": [
    {
     "data": {
      "text/plain": [
       "<Figure size 640x480 with 1 Axes>"
      ],
      "image/png": "[encoded data removed]"
     },
     "metadata": {},
     "output_type": "display_data"
    }
   ]
  }
 ],
 "metadata": {
  "accelerator": "GPU",
  "colab": {
   "provenance": []
  },
  "gpuClass": "standard",
  "kernelspec": {
   "display_name": "Python 3 (ipykernel)",
   "name": "python3",
   "language": "python"
  },
  "language_info": {
   "name": "python"
  }
 },
 "nbformat": 4,
 "nbformat_minor": 0
}
